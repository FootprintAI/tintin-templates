{
 "cells": [
  {
   "cell_type": "code",
   "execution_count": null,
   "metadata": {},
   "outputs": [],
   "source": [
    "\n",
    "from typing import NamedTuple\n",
    "def myOp(intArgs: int = 0, strArg: str = 'default-str') -> NamedTuple('outputs', [('Validation-Accuracy', float), ('Validation-Loss', float)]):\n",
    "\n",
    "    home = '/home/jovyan'\n",
    "    ## begin your code here\n",
    "    ## ....\n",
    "    ## end your code here\n",
    "    \n",
    "    \n",
    "    ## use monitorCallback to let tintin to track your model performance, hence a comparison view can be used\n",
    "    #class LossAndErrorPrintingCallback(keras.callbacks.Callback):\n",
    "    #        def on_epoch_end(self, epoch, logs=None):\n",
    "    #            print(\"Training-Accuracy={:7.6f}\".format(logs[\"accuracy\"]))\n",
    "    #            print(\"Training-Loss={:7.6f}\".format(logs[\"loss\"]))\n",
    "    #            print(\"Validation-Accuracy={:7.6f}\".format(logs[\"val_accuracy\"]))\n",
    "    #            print(\"Validation-Loss={:7.6f}\".format(logs[\"val_loss\"]))\n",
    "    #callbacks = [..., LossAndErrorPrintingCallback(), ...]\n",
    "    #    # Run training, with or without data augmentation.\n",
    "    #    if not data_augmentation:\n",
    "    #        print('Not using data augmentation.')\n",
    "    #        model.fit(x_train, y_train,\n",
    "    #                  batch_size=batch_size,\n",
    "    #                  epochs=epochs,\n",
    "    #                  validation_data=(x_test, y_test),\n",
    "    #                  shuffle=True,\n",
    "    #                  callbacks=callbacks)\n",
    "    \n",
    "    \n",
    "    from collections import namedtuple\n",
    "    outputs = namedtuple('outputs', ['Validation-Accuracy', 'Validation-Loss'])\n",
    "    return outputs(output_model_dir, validAcc, validLoss)"
   ]
  },
  {
   "cell_type": "code",
   "execution_count": null,
   "metadata": {},
   "outputs": [],
   "source": [
    "## to access assets files, use tintin-sdk (requires python >=3.7)\n",
    "## see tintin-sdk: https://github.com/footprintAI/tintin-sdk\n",
    "#!pip install tintin-sdk --user"
   ]
  },
  {
   "cell_type": "code",
   "execution_count": null,
   "metadata": {},
   "outputs": [],
   "source": [
    "## write all your requirements.txt here if possible\n",
    "with open(\"requirements.txt\", \"w\") as f:\n",
    "    f.write(\"kfp==0.5.1\\n\")\n",
    "    f.write(\"h5py<3.0.0\\n\")\n",
    "    f.write(\"keras==2.3.1\\n\")\n",
    "    f.write(\"tintin-sdk\\n\")\n",
    "\n",
    "!pip install -r requirements.txt --user --upgrade"
   ]
  },
  {
   "cell_type": "code",
   "execution_count": null,
   "metadata": {},
   "outputs": [],
   "source": [
    "import kfp\n",
    "import kfp.dsl as dsl\n",
    "import kfp.components as comp\n",
    "import kfp.compiler as compiler"
   ]
  },
  {
   "cell_type": "code",
   "execution_count": null,
   "metadata": {},
   "outputs": [],
   "source": [
    "import os\n",
    "pvcname = os.environ.get('TINTIN_SESSION_TEMPLATE_PVC_NAME')\n",
    "generated_pipeline_zip_filename = os.environ.get('TINTIN_SESSION_TEMPLATE_GENERATED_PIPELINE_ZIP_FILENAME')\n",
    "gpu_type_list_text = os.environ.get('TINTIN_SESSION_TEMPLATE_GPU_TYPE_LIST')\n",
    "default_image = os.environ.get('TINTIN_SESSION_TEMPLATE_DEFAULT_IMAGE', 'footprintai/nvidia-tensorflow:19.12-tf1-py3')\n",
    "mountPath = os.environ.get('TINTIN_SESSION_TEMPLATE_MOUNT_PATH', '/home/jovyan')\n",
    "\n"
   ]
  },
  {
   "cell_type": "code",
   "execution_count": null,
   "metadata": {},
   "outputs": [],
   "source": [
    "## this section attach your operation function\n",
    "## with kubeflow pipeline.\n",
    "\n",
    "myComp = comp.func_to_container_op(myOp, \n",
    "                                      base_image=default_image,\n",
    "                                      packages_to_install=[\"keras==2.3.1\", \"h5py<3.0.0\"])\n",
    "\n",
    "import kfp.dsl as dsl\n",
    "@dsl.pipeline(\n",
    "   name='Projectname pipeline',\n",
    "   description='simple pipeline.'\n",
    ")\n",
    "def templated_pipeline_func(\n",
    "    intArg=50,\n",
    "    strArg='str',\n",
    "):\n",
    "    \n",
    "    pvolumn_dict = {}\n",
    "    pvolumn_dict[mountPath] = dsl.PipelineVolume(pvc=pvcname);\n",
    "    \n",
    "    ## do NOT edit this session unless you know what are you doing.\n",
    "    train_task = myComp(intArgs, strArgs).add_pvolumes(pvolumn_dict)\n",
    "    train_task = train_task.add_resource_request('cpu', '1')\n",
    "    train_task = train_task.add_resource_limit('cpu', '1')\n",
    "    train_task = train_task.add_resource_request('memory', '4Gi')\n",
    "    train_task = train_task.add_resource_limit('memory', '4Gi')\n",
    "    if len(gpu_type_list_text) > 0:\n",
    "        gpu_type_list = gpu_type_list_text.split(',')\n",
    "        # Set gpu type here. Default the first gpu type in user resource quota.\n",
    "        # User could print out the gpu type list and pick up one to replace the following line.\n",
    "        gpu_type = gpu_type_list[0]\n",
    "        train_task = train_task.add_resource_request(gpu_type, '1')\n",
    "        train_task = train_task.add_resource_limit(gpu_type, '1')\n",
    "        # GPU company is from the GPU type. Used by the gpu driver\n",
    "        gpu_company = gpu_type.split('/')[0] + '/gpu'\n",
    "        train_task = train_task.add_resource_request(gpu_company, '1')\n",
    "        train_task = train_task.add_resource_limit(gpu_company, '1')\n",
    "    model_name = os.environ.get('TINTIN_SESSION_TEMPLATE_MODEL_NAME', 'resnet_graphdef')\n",
    "    train_task = train_task.add_pod_annotation('tintin.footprint-ai.com/session-model-name', model_name)\n",
    "compiler.Compiler().compile(templated_pipeline_func, generated_pipeline_zip_filename)"
   ]
  },
  {
   "cell_type": "code",
   "execution_count": null,
   "metadata": {},
   "outputs": [],
   "source": []
  }
 ],
 "metadata": {
  "kernelspec": {
   "display_name": "Python 3",
   "language": "python",
   "name": "python3"
  },
  "language_info": {
   "codemirror_mode": {
    "name": "ipython",
    "version": 3
   },
   "file_extension": ".py",
   "mimetype": "text/x-python",
   "name": "python",
   "nbconvert_exporter": "python",
   "pygments_lexer": "ipython3",
   "version": "3.6.9"
  }
 },
 "nbformat": 4,
 "nbformat_minor": 2
}
